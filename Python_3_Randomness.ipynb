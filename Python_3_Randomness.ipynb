{
  "nbformat": 4,
  "nbformat_minor": 0,
  "metadata": {
    "colab": {
      "provenance": [],
      "include_colab_link": true
    },
    "kernelspec": {
      "name": "python3",
      "display_name": "Python 3"
    }
  },
  "cells": [
    {
      "cell_type": "markdown",
      "metadata": {
        "id": "view-in-github",
        "colab_type": "text"
      },
      "source": [
        "<a href=\"https://colab.research.google.com/github/YSHS-APCSP-2022/python-1-B-Mantilla/blob/main/Python_3_Randomness.ipynb\" target=\"_parent\"><img src=\"https://colab.research.google.com/assets/colab-badge.svg\" alt=\"Open In Colab\"/></a>"
      ]
    },
    {
      "cell_type": "markdown",
      "metadata": {
        "id": "AJZX0MjdY2Op"
      },
      "source": [
        "# Randomness\n",
        "Sometimes it is useful to incorporate a bit of randomness into your code. From spawning enemies, to guessing games, to randomly selecting the order, randomness is essential to a lot of code. \n",
        "\n",
        "To keep python sleek only certain functions, like print(), are loaded with base python. Other functions, like the random functions, need to be loaded into the python environment. Collections of functions are called libraries and to access them you need to import the library in a code cell. This is usually done at the top of your code.\n",
        "``` python\n",
        "import random\n",
        "```\n",
        "This imports the library random that has several random functions that we will use. Below are two examples of the random function run the cells below and see what the \n",
        "```python\n",
        "random.randint()\n",
        "```\n",
        "and the random.choice()  do\n",
        "```python\n",
        "random.choice()\n",
        "```"
      ]
    },
    {
      "cell_type": "code",
      "metadata": {
        "id": "jEDVby0OSxkK",
        "colab": {
          "base_uri": "https://localhost:8080/"
        },
        "outputId": "fbe65e0a-e442-4138-daff-d8a6fcb08f4e"
      },
      "source": [
        "import random\n",
        "#randint stands for random integer\n",
        "print(random.randint(0,100))"
      ],
      "execution_count": 1,
      "outputs": [
        {
          "output_type": "stream",
          "name": "stdout",
          "text": [
            "81\n"
          ]
        }
      ]
    },
    {
      "cell_type": "code",
      "metadata": {
        "id": "Yu_KJAkeS9_K",
        "colab": {
          "base_uri": "https://localhost:8080/",
          "height": 35
        },
        "outputId": "1837d6a4-1d33-46a6-9c4f-bd2639177be1"
      },
      "source": [
        "import random\n",
        "#note that you need 2 parentheses, the first one is to group the candy bars and the second one is to run the random.choice around it\n",
        "random.choice((\"Snickers\",\"Twix\",\"Nerds\",\"Kit Kats\"))\n"
      ],
      "execution_count": 2,
      "outputs": [
        {
          "output_type": "execute_result",
          "data": {
            "text/plain": [
              "'Nerds'"
            ],
            "application/vnd.google.colaboratory.intrinsic+json": {
              "type": "string"
            }
          },
          "metadata": {},
          "execution_count": 2
        }
      ]
    },
    {
      "cell_type": "markdown",
      "metadata": {
        "id": "Rui7G49OTiMT"
      },
      "source": [
        "# Make a Guessing Game\n",
        "\n",
        "1. Define a function called guessing game that takes 1 input number\n",
        "2. In the function randomly pick a number from 1 to 5 (see random.randint())\n",
        "3. If the guess == the randomly picked number print you got it\n",
        "4. Else print \"you did not get the number correct, you guessed [input guess] and the random number was [input random number]"
      ]
    },
    {
      "cell_type": "code",
      "metadata": {
        "id": "UiL_R6zVUQl6",
        "colab": {
          "base_uri": "https://localhost:8080/"
        },
        "outputId": "67ec19e2-a6f7-4e54-cbbb-299b40f48a7f"
      },
      "source": [
        "import random\n",
        "secret = random.randint(1,50)\n",
        "guess = input(\"Guess a number between 1 and 50. \")\n",
        "if guess == secret: \n",
        "  print(\"You got it.\")\n",
        "else:\n",
        "  print(\"You did not get the number correct, you guessed \",guess,\" and the random number was \",secret,\".\")"
      ],
      "execution_count": 55,
      "outputs": [
        {
          "output_type": "stream",
          "name": "stdout",
          "text": [
            "Guess a number between 1 and 50 1\n",
            "You did not get the number correct, you guessed  1  and the random number was  32 .\n"
          ]
        }
      ]
    },
    {
      "cell_type": "markdown",
      "metadata": {
        "id": "oQHBqn_HURfy"
      },
      "source": [
        "# Guessing Game 2.0\n",
        "1. Define a function called guessing game that takes 1 input number\n",
        "2. In the function randomly pick a number from 1 to 5 (see random.randint())\n",
        "3. If the guess == the randomly picked number print you got it\n",
        "4. If the guess > the randomly picked number print \"Your guess is too high\"\n",
        "5. If the guess < the randomly picked number print \"Your guess is too low\" \n",
        "\n",
        "*when you have stacked if statements that are checked one after the other the next if should be an elif (which stands for elseif) see the code below for an example *\n",
        "\n",
        "```python\n",
        "pet = 'dog'\n",
        "if pet == 'cat':\n",
        "  print(\"you have a cat\")\n",
        "elif pet == 'dog':\n",
        "  print(\"you have a dog\")\n",
        "elif pet == 'bird':\n",
        "  print(\"you have a bird\")\n",
        "else:\n",
        "  print(\"You have a \" + pet)\n",
        "```\n"
      ]
    },
    {
      "cell_type": "code",
      "metadata": {
        "id": "B4uXynQpYwZS"
      },
      "source": [
        "import random\n",
        "secret = random.randit(1,5)\n",
        "guess = input(\"Guess a number between 1 and 5. \")\n",
        "if guess < secret:\n",
        "  "
      ],
      "execution_count": null,
      "outputs": []
    }
  ]
}